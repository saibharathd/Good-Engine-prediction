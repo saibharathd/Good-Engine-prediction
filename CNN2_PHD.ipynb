{
 "cells": [
  {
   "cell_type": "code",
   "execution_count": 14,
   "metadata": {},
   "outputs": [],
   "source": [
    "import pandas as pd\n",
    "import numpy as numpy\n",
    "from keras.models import Sequential\n",
    "from keras.layers import Dense, Dropout, Activation, Flatten,BatchNormalization\n",
    "from keras.layers import Conv1D, MaxPooling1D, LeakyReLU, PReLU, Convolution1D,Embedding,Convolution2D\n",
    "from keras.utils import np_utils\n",
    "from keras.callbacks import CSVLogger, ModelCheckpoint\n",
    "import h5py\n",
    "import os\n",
    "import tensorflow as tf\n",
    "from keras.backend.tensorflow_backend import set_session"
   ]
  },
  {
   "cell_type": "code",
   "execution_count": 15,
   "metadata": {
    "collapsed": true
   },
   "outputs": [],
   "source": [
    "# fix random seed for reproducibility\n",
    "seed = 123\n",
    "numpy.random.seed(seed)"
   ]
  },
  {
   "cell_type": "code",
   "execution_count": 16,
   "metadata": {},
   "outputs": [],
   "source": [
    "# load dataset\n",
    "dataframe = pd.read_csv(\"C:\\\\Users\\\\Sai\\\\Desktop\\\\Insofe\\\\exams\\\\PHD\\\\MLP_data2.csv\", header=None)\n",
    "dataset = dataframe.values\n",
    "# split into input (X) and output (Y) variables\n",
    "X = dataset[1:,0:20].astype(float)\n",
    "Y = dataset[1:,-1]"
   ]
  },
  {
   "cell_type": "code",
   "execution_count": 17,
   "metadata": {
    "collapsed": true
   },
   "outputs": [],
   "source": [
    "from sklearn.preprocessing import LabelEncoder\n",
    "# encode class values as integers\n",
    "encoder = LabelEncoder()\n",
    "encoder.fit(Y)\n",
    "encoded_Y = encoder.transform(Y)"
   ]
  },
  {
   "cell_type": "code",
   "execution_count": 18,
   "metadata": {},
   "outputs": [
    {
     "data": {
      "text/plain": [
       "(3156,)"
      ]
     },
     "execution_count": 18,
     "metadata": {},
     "output_type": "execute_result"
    }
   ],
   "source": [
    "encoded_Y.shape"
   ]
  },
  {
   "cell_type": "code",
   "execution_count": 19,
   "metadata": {},
   "outputs": [
    {
     "data": {
      "text/plain": [
       "(3156, 20)"
      ]
     },
     "execution_count": 19,
     "metadata": {},
     "output_type": "execute_result"
    }
   ],
   "source": [
    "X.shape"
   ]
  },
  {
   "cell_type": "code",
   "execution_count": 20,
   "metadata": {},
   "outputs": [
    {
     "data": {
      "text/plain": [
       "array([[[ 0.],\n",
       "        [ 0.],\n",
       "        [ 0.],\n",
       "        ..., \n",
       "        [ 0.],\n",
       "        [ 1.],\n",
       "        [ 0.]],\n",
       "\n",
       "       [[ 0.],\n",
       "        [ 0.],\n",
       "        [ 1.],\n",
       "        ..., \n",
       "        [ 0.],\n",
       "        [ 1.],\n",
       "        [ 1.]],\n",
       "\n",
       "       [[ 0.],\n",
       "        [ 1.],\n",
       "        [ 0.],\n",
       "        ..., \n",
       "        [ 0.],\n",
       "        [ 1.],\n",
       "        [ 1.]],\n",
       "\n",
       "       ..., \n",
       "       [[ 0.],\n",
       "        [ 0.],\n",
       "        [ 1.],\n",
       "        ..., \n",
       "        [ 0.],\n",
       "        [ 1.],\n",
       "        [ 1.]],\n",
       "\n",
       "       [[ 0.],\n",
       "        [ 0.],\n",
       "        [ 0.],\n",
       "        ..., \n",
       "        [ 0.],\n",
       "        [ 1.],\n",
       "        [ 1.]],\n",
       "\n",
       "       [[ 0.],\n",
       "        [ 0.],\n",
       "        [ 1.],\n",
       "        ..., \n",
       "        [ 0.],\n",
       "        [ 1.],\n",
       "        [ 0.]]])"
      ]
     },
     "execution_count": 20,
     "metadata": {},
     "output_type": "execute_result"
    }
   ],
   "source": [
    "X_train_r = numpy.zeros((len(X), 20, 1))\n",
    "X_train_r[:, :, 0] = X[:, :20]\n",
    "X_train_r"
   ]
  },
  {
   "cell_type": "code",
   "execution_count": 29,
   "metadata": {},
   "outputs": [
    {
     "name": "stderr",
     "output_type": "stream",
     "text": [
      "C:\\Users\\Sai\\Anaconda3\\lib\\site-packages\\ipykernel_launcher.py:12: UserWarning: Update your `Conv1D` call to the Keras 2 API: `Conv1D(input_shape=(20, 1), filters=128, kernel_size=1)`\n",
      "  if sys.path[0] == '':\n"
     ]
    },
    {
     "name": "stdout",
     "output_type": "stream",
     "text": [
      "Epoch 1/20\n",
      "2103/2103 [==============================] - 7s 3ms/step - loss: 0.6819 - acc: 0.6396\n",
      "Epoch 2/20\n",
      "2103/2103 [==============================] - 2s 921us/step - loss: 0.5824 - acc: 0.7175\n",
      "Epoch 3/20\n",
      "2103/2103 [==============================] - 4s 2ms/step - loss: 0.5216 - acc: 0.7494\n",
      "Epoch 4/20\n",
      "2103/2103 [==============================] - 1s 530us/step - loss: 0.4572 - acc: 0.7941\n",
      "Epoch 5/20\n",
      "2103/2103 [==============================] - 1s 456us/step - loss: 0.3973 - acc: 0.8364\n",
      "Epoch 6/20\n",
      "2103/2103 [==============================] - 1s 433us/step - loss: 0.3824 - acc: 0.8421\n",
      "Epoch 7/20\n",
      "2103/2103 [==============================] - 1s 420us/step - loss: 0.3583 - acc: 0.8659\n",
      "Epoch 8/20\n",
      "2103/2103 [==============================] - 1s 470us/step - loss: 0.3574 - acc: 0.8569\n",
      "Epoch 9/20\n",
      "2103/2103 [==============================] - 1s 444us/step - loss: 0.3403 - acc: 0.8654\n",
      "Epoch 10/20\n",
      "2103/2103 [==============================] - 1s 461us/step - loss: 0.3449 - acc: 0.8654\n",
      "Epoch 11/20\n",
      "2103/2103 [==============================] - 1s 652us/step - loss: 0.3348 - acc: 0.8645\n",
      "Epoch 12/20\n",
      "2103/2103 [==============================] - 1s 670us/step - loss: 0.3345 - acc: 0.8631\n",
      "Epoch 13/20\n",
      "2103/2103 [==============================] - 1s 667us/step - loss: 0.3329 - acc: 0.8635\n",
      "Epoch 14/20\n",
      "2103/2103 [==============================] - 1s 533us/step - loss: 0.3295 - acc: 0.8635\n",
      "Epoch 15/20\n",
      "2103/2103 [==============================] - 1s 450us/step - loss: 0.3290 - acc: 0.8612\n",
      "Epoch 16/20\n",
      "2103/2103 [==============================] - 1s 447us/step - loss: 0.3270 - acc: 0.8597\n",
      "Epoch 17/20\n",
      "2103/2103 [==============================] - 1s 423us/step - loss: 0.3231 - acc: 0.8631\n",
      "Epoch 18/20\n",
      "2103/2103 [==============================] - 1s 419us/step - loss: 0.3297 - acc: 0.8597\n",
      "Epoch 19/20\n",
      "2103/2103 [==============================] - 1s 423us/step - loss: 0.3236 - acc: 0.8645\n",
      "Epoch 20/20\n",
      "2103/2103 [==============================] - 2s 1ms/step - loss: 0.3298 - acc: 0.8573\n",
      "acc: 87.08%\n",
      "Epoch 1/20\n",
      "2104/2104 [==============================] - 9s 4ms/step - loss: 0.6805 - acc: 0.6702\n",
      "Epoch 2/20\n",
      "2104/2104 [==============================] - 2s 794us/step - loss: 0.5787 - acc: 0.7262\n",
      "Epoch 3/20\n",
      "2104/2104 [==============================] - 1s 629us/step - loss: 0.4999 - acc: 0.7552\n",
      "Epoch 4/20\n",
      "2104/2104 [==============================] - 1s 592us/step - loss: 0.4093 - acc: 0.8237\n",
      "Epoch 5/20\n",
      "2104/2104 [==============================] - 1s 571us/step - loss: 0.3704 - acc: 0.8541\n",
      "Epoch 6/20\n",
      "2104/2104 [==============================] - 1s 593us/step - loss: 0.3471 - acc: 0.8617\n",
      "Epoch 7/20\n",
      "2104/2104 [==============================] - 1s 530us/step - loss: 0.3454 - acc: 0.8617\n",
      "Epoch 8/20\n",
      "2104/2104 [==============================] - 1s 529us/step - loss: 0.3415 - acc: 0.8617\n",
      "Epoch 9/20\n",
      "2104/2104 [==============================] - 1s 485us/step - loss: 0.3336 - acc: 0.8584\n",
      "Epoch 10/20\n",
      "2104/2104 [==============================] - 1s 499us/step - loss: 0.3295 - acc: 0.8622\n",
      "Epoch 11/20\n",
      "2104/2104 [==============================] - 1s 527us/step - loss: 0.3335 - acc: 0.8669\n",
      "Epoch 12/20\n",
      "2104/2104 [==============================] - 1s 536us/step - loss: 0.3441 - acc: 0.8574\n",
      "Epoch 13/20\n",
      "2104/2104 [==============================] - 1s 503us/step - loss: 0.3369 - acc: 0.8517\n",
      "Epoch 14/20\n",
      "2104/2104 [==============================] - 1s 507us/step - loss: 0.3228 - acc: 0.8636\n",
      "Epoch 15/20\n",
      "2104/2104 [==============================] - 1s 576us/step - loss: 0.3236 - acc: 0.8679\n",
      "Epoch 16/20\n",
      "2104/2104 [==============================] - 2s 728us/step - loss: 0.3199 - acc: 0.8617\n",
      "Epoch 17/20\n",
      "2104/2104 [==============================] - 2s 722us/step - loss: 0.3204 - acc: 0.8607\n",
      "Epoch 18/20\n",
      "2104/2104 [==============================] - 1s 712us/step - loss: 0.3220 - acc: 0.8650\n",
      "Epoch 19/20\n",
      "2104/2104 [==============================] - 1s 488us/step - loss: 0.3203 - acc: 0.8603\n",
      "Epoch 20/20\n",
      "2104/2104 [==============================] - 1s 480us/step - loss: 0.3179 - acc: 0.8707\n",
      "acc: 87.64%\n",
      "Epoch 1/20\n",
      "2105/2105 [==============================] - 8s 4ms/step - loss: 0.6816 - acc: 0.6703\n",
      "Epoch 2/20\n",
      "2105/2105 [==============================] - 1s 670us/step - loss: 0.5692 - acc: 0.7340\n",
      "Epoch 3/20\n",
      "2105/2105 [==============================] - 1s 570us/step - loss: 0.5021 - acc: 0.7610\n",
      "Epoch 4/20\n",
      "2105/2105 [==============================] - 1s 569us/step - loss: 0.4063 - acc: 0.8299\n",
      "Epoch 5/20\n",
      "2105/2105 [==============================] - 1s 556us/step - loss: 0.3650 - acc: 0.8584\n",
      "Epoch 6/20\n",
      "2105/2105 [==============================] - 1s 563us/step - loss: 0.3426 - acc: 0.8689\n",
      "Epoch 7/20\n",
      "2105/2105 [==============================] - 1s 552us/step - loss: 0.3330 - acc: 0.8660\n",
      "Epoch 8/20\n",
      "2105/2105 [==============================] - 1s 554us/step - loss: 0.3264 - acc: 0.8698\n",
      "Epoch 9/20\n",
      "2105/2105 [==============================] - 1s 553us/step - loss: 0.3168 - acc: 0.8713\n",
      "Epoch 10/20\n",
      "2105/2105 [==============================] - 1s 560us/step - loss: 0.3135 - acc: 0.8689\n",
      "Epoch 11/20\n",
      "2105/2105 [==============================] - 1s 548us/step - loss: 0.3147 - acc: 0.8722\n",
      "Epoch 12/20\n",
      "2105/2105 [==============================] - 1s 496us/step - loss: 0.3114 - acc: 0.8746\n",
      "Epoch 13/20\n",
      "2105/2105 [==============================] - 1s 519us/step - loss: 0.3068 - acc: 0.8703\n",
      "Epoch 14/20\n",
      "2105/2105 [==============================] - 1s 709us/step - loss: 0.3126 - acc: 0.8732\n",
      "Epoch 15/20\n",
      "2105/2105 [==============================] - 2s 725us/step - loss: 0.3135 - acc: 0.8694\n",
      "Epoch 16/20\n",
      "2105/2105 [==============================] - 2s 752us/step - loss: 0.3104 - acc: 0.8708\n",
      "Epoch 17/20\n",
      "2105/2105 [==============================] - 1s 547us/step - loss: 0.3057 - acc: 0.8746\n",
      "Epoch 18/20\n",
      "2105/2105 [==============================] - 1s 500us/step - loss: 0.3094 - acc: 0.8751\n",
      "Epoch 19/20\n",
      "2105/2105 [==============================] - 1s 504us/step - loss: 0.3093 - acc: 0.8736\n",
      "Epoch 20/20\n",
      "2105/2105 [==============================] - 1s 520us/step - loss: 0.3067 - acc: 0.8727\n",
      "acc: 84.97%\n",
      "86.56% (+/- 1.15%)\n"
     ]
    }
   ],
   "source": [
    "from keras.wrappers.scikit_learn import KerasClassifier\n",
    "from sklearn.model_selection import StratifiedKFold\n",
    "from sklearn.model_selection import cross_val_score\n",
    "# define 10-fold cross validation test harness\n",
    "kfold = StratifiedKFold(n_splits=3, shuffle=True, random_state=seed)\n",
    "cvscores = []\n",
    "for train, test in kfold.split(X_train_r, encoded_Y):\n",
    "    # create model\n",
    "    model = Sequential()\n",
    "    #model.add(Embedding(54,54,input_length=54))\n",
    "    #model.add(Conv1D(activation='relu', input_shape=(54,), strides=1, filters=8, kernel_size=8))\n",
    "    model.add(Convolution1D(nb_filter=128, filter_length=1, input_shape=(20, 1)))\n",
    "    model.add(Dropout(0.3))\n",
    "    model.add(Conv1D(activation='relu', strides=1, filters=128, kernel_size=8))\n",
    "    model.add(Dropout(0.2))\n",
    "    model.add(Conv1D(activation='relu', strides=1, filters=32, kernel_size=8))\n",
    "    model.add(Dense(64, kernel_initializer='normal', activation='relu'))\n",
    "    model.add(Dense(32, kernel_initializer='normal', activation='relu'))\n",
    "    model.add(Flatten())\n",
    "    model.add(Dense(1, kernel_initializer='normal', activation='sigmoid'))\n",
    "    model.compile(loss='binary_crossentropy', optimizer='adam', metrics=['accuracy'])\n",
    "    # Fit the model\n",
    "    model.fit(X_train_r[train], encoded_Y[train], epochs=20, batch_size=128, verbose=1)\n",
    "    # evaluate the model\n",
    "    scores = model.evaluate(X_train_r[test], encoded_Y[test], verbose=0)\n",
    "    print(\"%s: %.2f%%\" % (model.metrics_names[1], scores[1]*100))\n",
    "    cvscores.append(scores[1] * 100)\n",
    "print(\"%.2f%% (+/- %.2f%%)\" % (numpy.mean(cvscores), numpy.std(cvscores)))"
   ]
  }
 ],
 "metadata": {
  "kernelspec": {
   "display_name": "Python 3",
   "language": "python",
   "name": "python3"
  },
  "language_info": {
   "codemirror_mode": {
    "name": "ipython",
    "version": 3
   },
   "file_extension": ".py",
   "mimetype": "text/x-python",
   "name": "python",
   "nbconvert_exporter": "python",
   "pygments_lexer": "ipython3",
   "version": "3.6.1"
  }
 },
 "nbformat": 4,
 "nbformat_minor": 2
}
